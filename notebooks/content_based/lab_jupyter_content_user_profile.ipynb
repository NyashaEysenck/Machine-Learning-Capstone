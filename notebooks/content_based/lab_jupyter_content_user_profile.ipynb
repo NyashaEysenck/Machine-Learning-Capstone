{
 "cells": [
  {
   "cell_type": "markdown",
   "metadata": {},
   "source": [
    "# **Content-based Course Recommender System Using User Profile and Course Genres**\n"
   ]
  },
  {
   "cell_type": "code",
   "execution_count": 1,
   "metadata": {},
   "outputs": [],
   "source": [
    "import pandas as pd\n",
    "import numpy as np\n",
    "from sklearn import preprocessing"
   ]
  },
  {
   "cell_type": "code",
   "execution_count": 2,
   "metadata": {},
   "outputs": [],
   "source": [
    "# also set a random state\n",
    "rs = 123"
   ]
  },
  {
   "cell_type": "markdown",
   "metadata": {},
   "source": [
    "### GeneratING course recommendations based on user profile and course genre vectors\n"
   ]
  },
  {
   "cell_type": "markdown",
   "metadata": {},
   "source": [
    "First, we will load a user's profile dataframe and a course genre dataframe:\n"
   ]
  },
  {
   "cell_type": "code",
   "execution_count": 23,
   "metadata": {},
   "outputs": [],
   "source": [
    "course_genre_url = \"data/course_genre.csv\"\n",
    "course_genres_df = pd.read_csv(course_genre_url)"
   ]
  },
  {
   "cell_type": "code",
   "execution_count": 24,
   "metadata": {},
   "outputs": [
    {
     "data": {
      "text/html": [
       "<div>\n",
       "<style scoped>\n",
       "    .dataframe tbody tr th:only-of-type {\n",
       "        vertical-align: middle;\n",
       "    }\n",
       "\n",
       "    .dataframe tbody tr th {\n",
       "        vertical-align: top;\n",
       "    }\n",
       "\n",
       "    .dataframe thead th {\n",
       "        text-align: right;\n",
       "    }\n",
       "</style>\n",
       "<table border=\"1\" class=\"dataframe\">\n",
       "  <thead>\n",
       "    <tr style=\"text-align: right;\">\n",
       "      <th></th>\n",
       "      <th>COURSE_ID</th>\n",
       "      <th>TITLE</th>\n",
       "      <th>Database</th>\n",
       "      <th>Python</th>\n",
       "      <th>CloudComputing</th>\n",
       "      <th>DataAnalysis</th>\n",
       "      <th>Containers</th>\n",
       "      <th>MachineLearning</th>\n",
       "      <th>ComputerVision</th>\n",
       "      <th>DataScience</th>\n",
       "      <th>BigData</th>\n",
       "      <th>Chatbot</th>\n",
       "      <th>R</th>\n",
       "      <th>BackendDev</th>\n",
       "      <th>FrontendDev</th>\n",
       "      <th>Blockchain</th>\n",
       "    </tr>\n",
       "  </thead>\n",
       "  <tbody>\n",
       "    <tr>\n",
       "      <th>0</th>\n",
       "      <td>ML0201EN</td>\n",
       "      <td>robots are coming  build iot apps with watson ...</td>\n",
       "      <td>0</td>\n",
       "      <td>0</td>\n",
       "      <td>0</td>\n",
       "      <td>0</td>\n",
       "      <td>0</td>\n",
       "      <td>0</td>\n",
       "      <td>0</td>\n",
       "      <td>0</td>\n",
       "      <td>0</td>\n",
       "      <td>0</td>\n",
       "      <td>0</td>\n",
       "      <td>1</td>\n",
       "      <td>1</td>\n",
       "      <td>0</td>\n",
       "    </tr>\n",
       "    <tr>\n",
       "      <th>1</th>\n",
       "      <td>ML0122EN</td>\n",
       "      <td>accelerating deep learning with gpu</td>\n",
       "      <td>0</td>\n",
       "      <td>1</td>\n",
       "      <td>0</td>\n",
       "      <td>0</td>\n",
       "      <td>0</td>\n",
       "      <td>1</td>\n",
       "      <td>0</td>\n",
       "      <td>1</td>\n",
       "      <td>0</td>\n",
       "      <td>0</td>\n",
       "      <td>0</td>\n",
       "      <td>0</td>\n",
       "      <td>0</td>\n",
       "      <td>0</td>\n",
       "    </tr>\n",
       "    <tr>\n",
       "      <th>2</th>\n",
       "      <td>GPXX0ZG0EN</td>\n",
       "      <td>consuming restful services using the reactive ...</td>\n",
       "      <td>0</td>\n",
       "      <td>0</td>\n",
       "      <td>0</td>\n",
       "      <td>0</td>\n",
       "      <td>0</td>\n",
       "      <td>0</td>\n",
       "      <td>0</td>\n",
       "      <td>0</td>\n",
       "      <td>0</td>\n",
       "      <td>0</td>\n",
       "      <td>0</td>\n",
       "      <td>1</td>\n",
       "      <td>1</td>\n",
       "      <td>0</td>\n",
       "    </tr>\n",
       "    <tr>\n",
       "      <th>3</th>\n",
       "      <td>RP0105EN</td>\n",
       "      <td>analyzing big data in r using apache spark</td>\n",
       "      <td>1</td>\n",
       "      <td>0</td>\n",
       "      <td>0</td>\n",
       "      <td>1</td>\n",
       "      <td>0</td>\n",
       "      <td>0</td>\n",
       "      <td>0</td>\n",
       "      <td>0</td>\n",
       "      <td>1</td>\n",
       "      <td>0</td>\n",
       "      <td>1</td>\n",
       "      <td>0</td>\n",
       "      <td>0</td>\n",
       "      <td>0</td>\n",
       "    </tr>\n",
       "    <tr>\n",
       "      <th>4</th>\n",
       "      <td>GPXX0Z2PEN</td>\n",
       "      <td>containerizing  packaging  and running a sprin...</td>\n",
       "      <td>0</td>\n",
       "      <td>0</td>\n",
       "      <td>0</td>\n",
       "      <td>0</td>\n",
       "      <td>1</td>\n",
       "      <td>0</td>\n",
       "      <td>0</td>\n",
       "      <td>0</td>\n",
       "      <td>0</td>\n",
       "      <td>0</td>\n",
       "      <td>0</td>\n",
       "      <td>1</td>\n",
       "      <td>0</td>\n",
       "      <td>0</td>\n",
       "    </tr>\n",
       "  </tbody>\n",
       "</table>\n",
       "</div>"
      ],
      "text/plain": [
       "    COURSE_ID                                              TITLE  Database  \\\n",
       "0    ML0201EN  robots are coming  build iot apps with watson ...         0   \n",
       "1    ML0122EN                accelerating deep learning with gpu         0   \n",
       "2  GPXX0ZG0EN  consuming restful services using the reactive ...         0   \n",
       "3    RP0105EN         analyzing big data in r using apache spark         1   \n",
       "4  GPXX0Z2PEN  containerizing  packaging  and running a sprin...         0   \n",
       "\n",
       "   Python  CloudComputing  DataAnalysis  Containers  MachineLearning  \\\n",
       "0       0               0             0           0                0   \n",
       "1       1               0             0           0                1   \n",
       "2       0               0             0           0                0   \n",
       "3       0               0             1           0                0   \n",
       "4       0               0             0           1                0   \n",
       "\n",
       "   ComputerVision  DataScience  BigData  Chatbot  R  BackendDev  FrontendDev  \\\n",
       "0               0            0        0        0  0           1            1   \n",
       "1               0            1        0        0  0           0            0   \n",
       "2               0            0        0        0  0           1            1   \n",
       "3               0            0        1        0  1           0            0   \n",
       "4               0            0        0        0  0           1            0   \n",
       "\n",
       "   Blockchain  \n",
       "0           0  \n",
       "1           0  \n",
       "2           0  \n",
       "3           0  \n",
       "4           0  "
      ]
     },
     "execution_count": 24,
     "metadata": {},
     "output_type": "execute_result"
    }
   ],
   "source": [
    "course_genres_df.head()"
   ]
  },
  {
   "cell_type": "code",
   "execution_count": 25,
   "metadata": {},
   "outputs": [],
   "source": [
    "profile_genre_url = \"data/user_profile.csv\"\n",
    "profile_df = pd.read_csv(profile_genre_url)"
   ]
  },
  {
   "cell_type": "code",
   "execution_count": 26,
   "metadata": {},
   "outputs": [
    {
     "data": {
      "text/html": [
       "<div>\n",
       "<style scoped>\n",
       "    .dataframe tbody tr th:only-of-type {\n",
       "        vertical-align: middle;\n",
       "    }\n",
       "\n",
       "    .dataframe tbody tr th {\n",
       "        vertical-align: top;\n",
       "    }\n",
       "\n",
       "    .dataframe thead th {\n",
       "        text-align: right;\n",
       "    }\n",
       "</style>\n",
       "<table border=\"1\" class=\"dataframe\">\n",
       "  <thead>\n",
       "    <tr style=\"text-align: right;\">\n",
       "      <th></th>\n",
       "      <th>user</th>\n",
       "      <th>Database</th>\n",
       "      <th>Python</th>\n",
       "      <th>CloudComputing</th>\n",
       "      <th>DataAnalysis</th>\n",
       "      <th>Containers</th>\n",
       "      <th>MachineLearning</th>\n",
       "      <th>ComputerVision</th>\n",
       "      <th>DataScience</th>\n",
       "      <th>BigData</th>\n",
       "      <th>Chatbot</th>\n",
       "      <th>R</th>\n",
       "      <th>BackendDev</th>\n",
       "      <th>FrontendDev</th>\n",
       "      <th>Blockchain</th>\n",
       "    </tr>\n",
       "  </thead>\n",
       "  <tbody>\n",
       "    <tr>\n",
       "      <th>0</th>\n",
       "      <td>2</td>\n",
       "      <td>52.0</td>\n",
       "      <td>14.0</td>\n",
       "      <td>6.0</td>\n",
       "      <td>43.0</td>\n",
       "      <td>3.0</td>\n",
       "      <td>33.0</td>\n",
       "      <td>0.0</td>\n",
       "      <td>29.0</td>\n",
       "      <td>41.0</td>\n",
       "      <td>2.0</td>\n",
       "      <td>18.0</td>\n",
       "      <td>34.0</td>\n",
       "      <td>9.0</td>\n",
       "      <td>6.0</td>\n",
       "    </tr>\n",
       "    <tr>\n",
       "      <th>1</th>\n",
       "      <td>4</td>\n",
       "      <td>40.0</td>\n",
       "      <td>2.0</td>\n",
       "      <td>4.0</td>\n",
       "      <td>28.0</td>\n",
       "      <td>0.0</td>\n",
       "      <td>14.0</td>\n",
       "      <td>0.0</td>\n",
       "      <td>20.0</td>\n",
       "      <td>24.0</td>\n",
       "      <td>0.0</td>\n",
       "      <td>6.0</td>\n",
       "      <td>6.0</td>\n",
       "      <td>0.0</td>\n",
       "      <td>2.0</td>\n",
       "    </tr>\n",
       "    <tr>\n",
       "      <th>2</th>\n",
       "      <td>5</td>\n",
       "      <td>24.0</td>\n",
       "      <td>8.0</td>\n",
       "      <td>18.0</td>\n",
       "      <td>24.0</td>\n",
       "      <td>0.0</td>\n",
       "      <td>30.0</td>\n",
       "      <td>0.0</td>\n",
       "      <td>22.0</td>\n",
       "      <td>14.0</td>\n",
       "      <td>2.0</td>\n",
       "      <td>14.0</td>\n",
       "      <td>26.0</td>\n",
       "      <td>4.0</td>\n",
       "      <td>6.0</td>\n",
       "    </tr>\n",
       "    <tr>\n",
       "      <th>3</th>\n",
       "      <td>7</td>\n",
       "      <td>2.0</td>\n",
       "      <td>0.0</td>\n",
       "      <td>0.0</td>\n",
       "      <td>2.0</td>\n",
       "      <td>0.0</td>\n",
       "      <td>0.0</td>\n",
       "      <td>0.0</td>\n",
       "      <td>0.0</td>\n",
       "      <td>2.0</td>\n",
       "      <td>0.0</td>\n",
       "      <td>0.0</td>\n",
       "      <td>0.0</td>\n",
       "      <td>0.0</td>\n",
       "      <td>0.0</td>\n",
       "    </tr>\n",
       "    <tr>\n",
       "      <th>4</th>\n",
       "      <td>8</td>\n",
       "      <td>6.0</td>\n",
       "      <td>0.0</td>\n",
       "      <td>0.0</td>\n",
       "      <td>4.0</td>\n",
       "      <td>0.0</td>\n",
       "      <td>0.0</td>\n",
       "      <td>0.0</td>\n",
       "      <td>0.0</td>\n",
       "      <td>6.0</td>\n",
       "      <td>0.0</td>\n",
       "      <td>2.0</td>\n",
       "      <td>0.0</td>\n",
       "      <td>0.0</td>\n",
       "      <td>0.0</td>\n",
       "    </tr>\n",
       "  </tbody>\n",
       "</table>\n",
       "</div>"
      ],
      "text/plain": [
       "   user  Database  Python  CloudComputing  DataAnalysis  Containers  \\\n",
       "0     2      52.0    14.0             6.0          43.0         3.0   \n",
       "1     4      40.0     2.0             4.0          28.0         0.0   \n",
       "2     5      24.0     8.0            18.0          24.0         0.0   \n",
       "3     7       2.0     0.0             0.0           2.0         0.0   \n",
       "4     8       6.0     0.0             0.0           4.0         0.0   \n",
       "\n",
       "   MachineLearning  ComputerVision  DataScience  BigData  Chatbot     R  \\\n",
       "0             33.0             0.0         29.0     41.0      2.0  18.0   \n",
       "1             14.0             0.0         20.0     24.0      0.0   6.0   \n",
       "2             30.0             0.0         22.0     14.0      2.0  14.0   \n",
       "3              0.0             0.0          0.0      2.0      0.0   0.0   \n",
       "4              0.0             0.0          0.0      6.0      0.0   2.0   \n",
       "\n",
       "   BackendDev  FrontendDev  Blockchain  \n",
       "0        34.0          9.0         6.0  \n",
       "1         6.0          0.0         2.0  \n",
       "2        26.0          4.0         6.0  \n",
       "3         0.0          0.0         0.0  \n",
       "4         0.0          0.0         0.0  "
      ]
     },
     "execution_count": 26,
     "metadata": {},
     "output_type": "execute_result"
    }
   ],
   "source": [
    "profile_df.head()"
   ]
  },
  {
   "cell_type": "markdown",
   "metadata": {},
   "source": [
    "The profile dataframe contains the course interests for each user, for example, user 8 is very interested in R, data analysis, database, and big data:\n"
   ]
  },
  {
   "cell_type": "code",
   "execution_count": 27,
   "metadata": {},
   "outputs": [
    {
     "data": {
      "text/html": [
       "<div>\n",
       "<style scoped>\n",
       "    .dataframe tbody tr th:only-of-type {\n",
       "        vertical-align: middle;\n",
       "    }\n",
       "\n",
       "    .dataframe tbody tr th {\n",
       "        vertical-align: top;\n",
       "    }\n",
       "\n",
       "    .dataframe thead th {\n",
       "        text-align: right;\n",
       "    }\n",
       "</style>\n",
       "<table border=\"1\" class=\"dataframe\">\n",
       "  <thead>\n",
       "    <tr style=\"text-align: right;\">\n",
       "      <th></th>\n",
       "      <th>user</th>\n",
       "      <th>Database</th>\n",
       "      <th>Python</th>\n",
       "      <th>CloudComputing</th>\n",
       "      <th>DataAnalysis</th>\n",
       "      <th>Containers</th>\n",
       "      <th>MachineLearning</th>\n",
       "      <th>ComputerVision</th>\n",
       "      <th>DataScience</th>\n",
       "      <th>BigData</th>\n",
       "      <th>Chatbot</th>\n",
       "      <th>R</th>\n",
       "      <th>BackendDev</th>\n",
       "      <th>FrontendDev</th>\n",
       "      <th>Blockchain</th>\n",
       "    </tr>\n",
       "  </thead>\n",
       "  <tbody>\n",
       "    <tr>\n",
       "      <th>4</th>\n",
       "      <td>8</td>\n",
       "      <td>6.0</td>\n",
       "      <td>0.0</td>\n",
       "      <td>0.0</td>\n",
       "      <td>4.0</td>\n",
       "      <td>0.0</td>\n",
       "      <td>0.0</td>\n",
       "      <td>0.0</td>\n",
       "      <td>0.0</td>\n",
       "      <td>6.0</td>\n",
       "      <td>0.0</td>\n",
       "      <td>2.0</td>\n",
       "      <td>0.0</td>\n",
       "      <td>0.0</td>\n",
       "      <td>0.0</td>\n",
       "    </tr>\n",
       "  </tbody>\n",
       "</table>\n",
       "</div>"
      ],
      "text/plain": [
       "   user  Database  Python  CloudComputing  DataAnalysis  Containers  \\\n",
       "4     8       6.0     0.0             0.0           4.0         0.0   \n",
       "\n",
       "   MachineLearning  ComputerVision  DataScience  BigData  Chatbot    R  \\\n",
       "4              0.0             0.0          0.0      6.0      0.0  2.0   \n",
       "\n",
       "   BackendDev  FrontendDev  Blockchain  \n",
       "4         0.0          0.0         0.0  "
      ]
     },
     "execution_count": 27,
     "metadata": {},
     "output_type": "execute_result"
    }
   ],
   "source": [
    "profile_df[profile_df['user'] == 8]"
   ]
  },
  {
   "cell_type": "markdown",
   "metadata": {},
   "source": [
    "Next, let's load a test dataset, containing test users to whom we want to make course recommendations:\n"
   ]
  },
  {
   "cell_type": "code",
   "execution_count": 28,
   "metadata": {},
   "outputs": [],
   "source": [
    "test_users_url = \"data/ratings.csv\"\n",
    "test_users_df = pd.read_csv(test_users_url)"
   ]
  },
  {
   "cell_type": "code",
   "execution_count": 29,
   "metadata": {},
   "outputs": [
    {
     "data": {
      "text/html": [
       "<div>\n",
       "<style scoped>\n",
       "    .dataframe tbody tr th:only-of-type {\n",
       "        vertical-align: middle;\n",
       "    }\n",
       "\n",
       "    .dataframe tbody tr th {\n",
       "        vertical-align: top;\n",
       "    }\n",
       "\n",
       "    .dataframe thead th {\n",
       "        text-align: right;\n",
       "    }\n",
       "</style>\n",
       "<table border=\"1\" class=\"dataframe\">\n",
       "  <thead>\n",
       "    <tr style=\"text-align: right;\">\n",
       "      <th></th>\n",
       "      <th>user</th>\n",
       "      <th>item</th>\n",
       "      <th>rating</th>\n",
       "    </tr>\n",
       "  </thead>\n",
       "  <tbody>\n",
       "    <tr>\n",
       "      <th>0</th>\n",
       "      <td>1889878</td>\n",
       "      <td>CC0101EN</td>\n",
       "      <td>5</td>\n",
       "    </tr>\n",
       "    <tr>\n",
       "      <th>1</th>\n",
       "      <td>1342067</td>\n",
       "      <td>CL0101EN</td>\n",
       "      <td>3</td>\n",
       "    </tr>\n",
       "    <tr>\n",
       "      <th>2</th>\n",
       "      <td>1990814</td>\n",
       "      <td>ML0120ENv3</td>\n",
       "      <td>5</td>\n",
       "    </tr>\n",
       "    <tr>\n",
       "      <th>3</th>\n",
       "      <td>380098</td>\n",
       "      <td>BD0211EN</td>\n",
       "      <td>5</td>\n",
       "    </tr>\n",
       "    <tr>\n",
       "      <th>4</th>\n",
       "      <td>779563</td>\n",
       "      <td>DS0101EN</td>\n",
       "      <td>3</td>\n",
       "    </tr>\n",
       "  </tbody>\n",
       "</table>\n",
       "</div>"
      ],
      "text/plain": [
       "      user        item  rating\n",
       "0  1889878    CC0101EN       5\n",
       "1  1342067    CL0101EN       3\n",
       "2  1990814  ML0120ENv3       5\n",
       "3   380098    BD0211EN       5\n",
       "4   779563    DS0101EN       3"
      ]
     },
     "execution_count": 29,
     "metadata": {},
     "output_type": "execute_result"
    }
   ],
   "source": [
    "test_users_df.head()"
   ]
  },
  {
   "cell_type": "markdown",
   "metadata": {},
   "source": [
    "Let's look at how many test users we have in the dataset.\n"
   ]
  },
  {
   "cell_type": "code",
   "execution_count": 30,
   "metadata": {},
   "outputs": [
    {
     "name": "stdout",
     "output_type": "stream",
     "text": [
      "Total numbers of test users 33901\n"
     ]
    }
   ],
   "source": [
    "# Group the test users DataFrame by the 'user' column and find the maximum value for each group,\n",
    "# then reset the index and drop the old index to obtain a DataFrame with unique user IDs\n",
    "test_users = test_users_df.groupby(['user']).max().reset_index(drop=False)\n",
    "\n",
    "# Extract the 'user' column from the test_users DataFrame and convert it to a list of user IDs\n",
    "test_user_ids = test_users['user'].to_list()\n",
    "\n",
    "# Print the total number of test users by obtaining the length of the test_user_ids list\n",
    "print(f\"Total numbers of test users {len(test_user_ids)}\")\n"
   ]
  },
  {
   "cell_type": "markdown",
   "metadata": {},
   "source": [
    "Then for each test user in the test dataset, you need to first find out which courses are unknown/unselected to them. For example, suppose we have a user `1078030` with profile:\n"
   ]
  },
  {
   "cell_type": "code",
   "execution_count": 31,
   "metadata": {},
   "outputs": [
    {
     "data": {
      "text/html": [
       "<div>\n",
       "<style scoped>\n",
       "    .dataframe tbody tr th:only-of-type {\n",
       "        vertical-align: middle;\n",
       "    }\n",
       "\n",
       "    .dataframe tbody tr th {\n",
       "        vertical-align: top;\n",
       "    }\n",
       "\n",
       "    .dataframe thead th {\n",
       "        text-align: right;\n",
       "    }\n",
       "</style>\n",
       "<table border=\"1\" class=\"dataframe\">\n",
       "  <thead>\n",
       "    <tr style=\"text-align: right;\">\n",
       "      <th></th>\n",
       "      <th>user</th>\n",
       "      <th>Database</th>\n",
       "      <th>Python</th>\n",
       "      <th>CloudComputing</th>\n",
       "      <th>DataAnalysis</th>\n",
       "      <th>Containers</th>\n",
       "      <th>MachineLearning</th>\n",
       "      <th>ComputerVision</th>\n",
       "      <th>DataScience</th>\n",
       "      <th>BigData</th>\n",
       "      <th>Chatbot</th>\n",
       "      <th>R</th>\n",
       "      <th>BackendDev</th>\n",
       "      <th>FrontendDev</th>\n",
       "      <th>Blockchain</th>\n",
       "    </tr>\n",
       "  </thead>\n",
       "  <tbody>\n",
       "    <tr>\n",
       "      <th>18204</th>\n",
       "      <td>1078030</td>\n",
       "      <td>0.0</td>\n",
       "      <td>12.0</td>\n",
       "      <td>0.0</td>\n",
       "      <td>9.0</td>\n",
       "      <td>0.0</td>\n",
       "      <td>12.0</td>\n",
       "      <td>0.0</td>\n",
       "      <td>6.0</td>\n",
       "      <td>0.0</td>\n",
       "      <td>0.0</td>\n",
       "      <td>0.0</td>\n",
       "      <td>0.0</td>\n",
       "      <td>0.0</td>\n",
       "      <td>0.0</td>\n",
       "    </tr>\n",
       "  </tbody>\n",
       "</table>\n",
       "</div>"
      ],
      "text/plain": [
       "          user  Database  Python  CloudComputing  DataAnalysis  Containers  \\\n",
       "18204  1078030       0.0    12.0             0.0           9.0         0.0   \n",
       "\n",
       "       MachineLearning  ComputerVision  DataScience  BigData  Chatbot    R  \\\n",
       "18204             12.0             0.0          6.0      0.0      0.0  0.0   \n",
       "\n",
       "       BackendDev  FrontendDev  Blockchain  \n",
       "18204         0.0          0.0         0.0  "
      ]
     },
     "execution_count": 31,
     "metadata": {},
     "output_type": "execute_result"
    }
   ],
   "source": [
    "test_user_profile = profile_df[profile_df['user'] == 1078030]\n",
    "test_user_profile"
   ]
  },
  {
   "cell_type": "code",
   "execution_count": 32,
   "metadata": {},
   "outputs": [
    {
     "data": {
      "text/plain": [
       "array([ 0., 12.,  0.,  9.,  0., 12.,  0.,  6.,  0.,  0.,  0.,  0.,  0.,\n",
       "        0.])"
      ]
     },
     "execution_count": 32,
     "metadata": {},
     "output_type": "execute_result"
    }
   ],
   "source": [
    "# Now let's get the test user vector by excluding the `user` column\n",
    "test_user_vector = test_user_profile.iloc[0, 1:].values\n",
    "test_user_vector"
   ]
  },
  {
   "cell_type": "markdown",
   "metadata": {},
   "source": [
    "We can first find their enrolled courses in `test_users_df`:\n"
   ]
  },
  {
   "cell_type": "code",
   "execution_count": 33,
   "metadata": {},
   "outputs": [],
   "source": [
    "enrolled_courses = test_users_df[test_users_df['user'] == 1078030]['item'].to_list()\n",
    "enrolled_courses = set(enrolled_courses)"
   ]
  },
  {
   "cell_type": "code",
   "execution_count": 34,
   "metadata": {},
   "outputs": [
    {
     "data": {
      "text/plain": [
       "{'DA0101EN',\n",
       " 'DV0101EN',\n",
       " 'ML0101ENv3',\n",
       " 'ML0115EN',\n",
       " 'ML0120ENv2',\n",
       " 'ML0122ENv1',\n",
       " 'PY0101EN',\n",
       " 'ST0101EN'}"
      ]
     },
     "execution_count": 34,
     "metadata": {},
     "output_type": "execute_result"
    }
   ],
   "source": [
    "enrolled_courses"
   ]
  },
  {
   "cell_type": "markdown",
   "metadata": {},
   "source": [
    "We then print the entire course list:\n"
   ]
  },
  {
   "cell_type": "code",
   "execution_count": 37,
   "metadata": {},
   "outputs": [],
   "source": [
    "all_courses = set(course_genres_df['COURSE_ID'].values)\n",
    "#all_courses"
   ]
  },
  {
   "cell_type": "markdown",
   "metadata": {},
   "source": [
    "Then we can use all courses to subtract the enrolled courses to get a set of all unknown courses for user `1078030`, and we want to find potential interested courses hidden in the unknown course list.\n"
   ]
  },
  {
   "cell_type": "code",
   "execution_count": 38,
   "metadata": {},
   "outputs": [],
   "source": [
    "unknown_courses = all_courses.difference(enrolled_courses)\n",
    "#unknown_courses"
   ]
  },
  {
   "cell_type": "markdown",
   "metadata": {},
   "source": [
    "We can get the genre vectors for those unknown courses as well:\n"
   ]
  },
  {
   "cell_type": "code",
   "execution_count": 39,
   "metadata": {},
   "outputs": [
    {
     "data": {
      "text/plain": [
       "array([[0, 0, 0, ..., 1, 1, 0],\n",
       "       [0, 1, 0, ..., 0, 0, 0],\n",
       "       [0, 0, 0, ..., 1, 1, 0],\n",
       "       ...,\n",
       "       [0, 0, 0, ..., 0, 1, 0],\n",
       "       [0, 0, 0, ..., 1, 1, 0],\n",
       "       [0, 0, 0, ..., 1, 1, 0]], dtype=int64)"
      ]
     },
     "execution_count": 39,
     "metadata": {},
     "output_type": "execute_result"
    }
   ],
   "source": [
    "unknown_course_genres = course_genres_df[course_genres_df['COURSE_ID'].isin(unknown_courses)]\n",
    "# Now let's get the course matrix by excluding `COURSE_ID` and `TITLE` columns:\n",
    "course_matrix = unknown_course_genres.iloc[:, 2:].values\n",
    "course_matrix"
   ]
  },
  {
   "cell_type": "code",
   "execution_count": 40,
   "metadata": {},
   "outputs": [
    {
     "data": {
      "text/plain": [
       "30.0"
      ]
     },
     "execution_count": 40,
     "metadata": {},
     "output_type": "execute_result"
    }
   ],
   "source": [
    "score = np.dot(course_matrix[1], test_user_vector)\n",
    "score"
   ]
  },
  {
   "cell_type": "markdown",
   "metadata": {},
   "source": [
    "Next, let's calculate the recommendation scores of all courses for all the 1000 test users. \n"
   ]
  },
  {
   "cell_type": "code",
   "execution_count": 41,
   "metadata": {},
   "outputs": [],
   "source": [
    "# Reload the test users dataset from the specified URL using pandas and store it in test_users_df\n",
    "test_users_df = pd.read_csv(test_users_url)\n",
    "\n",
    "# Reload the user profiles dataset from the specified URL containing user profiles and their associated genres using pandas and store it in profile_df\n",
    "profile_df = pd.read_csv(profile_genre_url)\n",
    "\n",
    "# Reload the course genres dataset from the specified URL containing course genres using pandas and store it in course_genres_df\n",
    "course_genres_df = pd.read_csv(course_genre_url)\n",
    "\n",
    "# Create an empty dictionary to store the results of the recommendation process\n",
    "res_dict = {}\n"
   ]
  },
  {
   "cell_type": "markdown",
   "metadata": {},
   "source": [
    "We only want to recommend courses with very high scores so we may set a score threshold to filter out those courses with low scores.\n"
   ]
  },
  {
   "cell_type": "code",
   "execution_count": 51,
   "metadata": {},
   "outputs": [],
   "source": [
    "# Only keep the score larger than the recommendation threshold\n",
    "# The threshold can be fine-tuned to adjust the size of generated recommendations\n",
    "score_threshold = 20.0"
   ]
  },
  {
   "cell_type": "markdown",
   "metadata": {},
   "source": [
    "We defined a function called `generate_recommendation_scores()` to compute the recommendation scores of all the unknown courses for all test users.\n"
   ]
  },
  {
   "cell_type": "code",
   "execution_count": 52,
   "metadata": {},
   "outputs": [],
   "source": [
    "def generate_recommendation_scores():\n",
    "    \"\"\"\n",
    "    Generate recommendation scores for users and courses.\n",
    "\n",
    "    Returns:\n",
    "    users (list): List of user IDs.\n",
    "    courses (list): List of recommended course IDs.\n",
    "    scores (list): List of recommendation scores.\n",
    "    \"\"\"\n",
    "\n",
    "    users = []      # List to store user IDs\n",
    "    courses = []    # List to store recommended course IDs\n",
    "    scores = []     # List to store recommendation scores\n",
    "\n",
    "    # Iterate over each user ID in the test_user_ids list\n",
    "    for user_id in test_user_ids:\n",
    "        # Get the user profile data for the current user\n",
    "        test_user_profile = profile_df[profile_df['user'] == user_id]\n",
    "\n",
    "        # Get the user vector for the current user id (replace with your method to obtain the user vector)\n",
    "        test_user_vector = test_user_profile.iloc[0, 1:].values\n",
    "\n",
    "        # Get the known course ids for the current user\n",
    "        enrolled_courses = test_users_df[test_users_df['user'] == user_id]['item'].to_list()\n",
    "\n",
    "        # Calculate the unknown course ids\n",
    "        unknown_courses = all_courses.difference(enrolled_courses)\n",
    "\n",
    "        # Filter the course_genres_df to include only unknown courses\n",
    "        unknown_course_df = course_genres_df[course_genres_df['COURSE_ID'].isin(unknown_courses)]\n",
    "        unknown_course_ids = unknown_course_df['COURSE_ID'].values\n",
    "\n",
    "        # Calculate the recommendation scores using dot product\n",
    "        recommendation_scores = np.dot(unknown_course_df.iloc[:, 2:].values, test_user_vector)\n",
    "\n",
    "        # Append the results into the users, courses, and scores list\n",
    "        for i in range(0, len(unknown_course_ids)):\n",
    "            score = recommendation_scores[i]\n",
    "\n",
    "            # Only keep the courses with high recommendation score\n",
    "            if score >= score_threshold:\n",
    "                users.append(user_id)\n",
    "                courses.append(unknown_course_ids[i])\n",
    "                scores.append(recommendation_scores[i])\n",
    "\n",
    "    return users, courses, scores\n",
    " \n"
   ]
  },
  {
   "cell_type": "code",
   "execution_count": 53,
   "metadata": {},
   "outputs": [
    {
     "data": {
      "text/html": [
       "<div>\n",
       "<style scoped>\n",
       "    .dataframe tbody tr th:only-of-type {\n",
       "        vertical-align: middle;\n",
       "    }\n",
       "\n",
       "    .dataframe tbody tr th {\n",
       "        vertical-align: top;\n",
       "    }\n",
       "\n",
       "    .dataframe thead th {\n",
       "        text-align: right;\n",
       "    }\n",
       "</style>\n",
       "<table border=\"1\" class=\"dataframe\">\n",
       "  <thead>\n",
       "    <tr style=\"text-align: right;\">\n",
       "      <th></th>\n",
       "      <th>USER</th>\n",
       "      <th>COURSE_ID</th>\n",
       "      <th>SCORE</th>\n",
       "    </tr>\n",
       "  </thead>\n",
       "  <tbody>\n",
       "    <tr>\n",
       "      <th>0</th>\n",
       "      <td>2</td>\n",
       "      <td>ML0201EN</td>\n",
       "      <td>43.0</td>\n",
       "    </tr>\n",
       "    <tr>\n",
       "      <th>1</th>\n",
       "      <td>2</td>\n",
       "      <td>GPXX0ZG0EN</td>\n",
       "      <td>43.0</td>\n",
       "    </tr>\n",
       "    <tr>\n",
       "      <th>2</th>\n",
       "      <td>2</td>\n",
       "      <td>GPXX0Z2PEN</td>\n",
       "      <td>37.0</td>\n",
       "    </tr>\n",
       "    <tr>\n",
       "      <th>3</th>\n",
       "      <td>2</td>\n",
       "      <td>DX0106EN</td>\n",
       "      <td>47.0</td>\n",
       "    </tr>\n",
       "    <tr>\n",
       "      <th>4</th>\n",
       "      <td>2</td>\n",
       "      <td>GPXX06RFEN</td>\n",
       "      <td>52.0</td>\n",
       "    </tr>\n",
       "    <tr>\n",
       "      <th>...</th>\n",
       "      <td>...</td>\n",
       "      <td>...</td>\n",
       "      <td>...</td>\n",
       "    </tr>\n",
       "    <tr>\n",
       "      <th>479126</th>\n",
       "      <td>2102680</td>\n",
       "      <td>GPXX04P5EN</td>\n",
       "      <td>23.0</td>\n",
       "    </tr>\n",
       "    <tr>\n",
       "      <th>479127</th>\n",
       "      <td>2102680</td>\n",
       "      <td>ML0101EN</td>\n",
       "      <td>29.0</td>\n",
       "    </tr>\n",
       "    <tr>\n",
       "      <th>479128</th>\n",
       "      <td>2102680</td>\n",
       "      <td>excourse21</td>\n",
       "      <td>29.0</td>\n",
       "    </tr>\n",
       "    <tr>\n",
       "      <th>479129</th>\n",
       "      <td>2102680</td>\n",
       "      <td>excourse22</td>\n",
       "      <td>29.0</td>\n",
       "    </tr>\n",
       "    <tr>\n",
       "      <th>479130</th>\n",
       "      <td>2102680</td>\n",
       "      <td>excourse49</td>\n",
       "      <td>20.0</td>\n",
       "    </tr>\n",
       "  </tbody>\n",
       "</table>\n",
       "<p>479131 rows × 3 columns</p>\n",
       "</div>"
      ],
      "text/plain": [
       "           USER   COURSE_ID  SCORE\n",
       "0             2    ML0201EN   43.0\n",
       "1             2  GPXX0ZG0EN   43.0\n",
       "2             2  GPXX0Z2PEN   37.0\n",
       "3             2    DX0106EN   47.0\n",
       "4             2  GPXX06RFEN   52.0\n",
       "...         ...         ...    ...\n",
       "479126  2102680  GPXX04P5EN   23.0\n",
       "479127  2102680    ML0101EN   29.0\n",
       "479128  2102680  excourse21   29.0\n",
       "479129  2102680  excourse22   29.0\n",
       "479130  2102680  excourse49   20.0\n",
       "\n",
       "[479131 rows x 3 columns]"
      ]
     },
     "execution_count": 53,
     "metadata": {},
     "output_type": "execute_result"
    }
   ],
   "source": [
    "# Call the generate_recommendation_scores function to obtain recommendation scores for users and courses,\n",
    "# and assign the returned lists to variables users, courses, and scores\n",
    "users, courses, scores = generate_recommendation_scores()\n",
    "\n",
    "# Create an empty dictionary named res_dict to store the results of the recommendation process\n",
    "res_dict = {}\n",
    "\n",
    "# Store the lists of users, courses, and scores into the res_dict dictionary with corresponding keys\n",
    "res_dict['USER'] = users\n",
    "res_dict['COURSE_ID'] = courses\n",
    "res_dict['SCORE'] = scores\n",
    "\n",
    "# Create a DataFrame named res_df using the res_dict dictionary, specifying the column order as ['USER', 'COURSE_ID', 'SCORE']\n",
    "res_df = pd.DataFrame(res_dict, columns=['USER', 'COURSE_ID', 'SCORE'])\n",
    "\n",
    "# Save the res_df DataFrame to a CSV file named \"profile_rs_results.csv\" without including the index\n",
    "res_df.to_csv(\"profile_rs_results.csv\", index=False)\n",
    "\n",
    "# Output the res_df DataFrame\n",
    "res_df\n"
   ]
  },
  {
   "cell_type": "code",
   "execution_count": 54,
   "metadata": {},
   "outputs": [],
   "source": [
    "res_df = pd.read_csv(\"profile_rs_results.csv\")"
   ]
  },
  {
   "cell_type": "code",
   "execution_count": 55,
   "metadata": {},
   "outputs": [
    {
     "data": {
      "text/plain": [
       "(28.943518182916517, 16554, 479131)"
      ]
     },
     "execution_count": 55,
     "metadata": {},
     "output_type": "execute_result"
    }
   ],
   "source": [
    "users = list(set(res_df['USER'].unique()))\n",
    "total_new_courses = 0\n",
    "for user in users:\n",
    "    total_new_courses += len(res_df[res_df['USER']==user]['COURSE_ID'].unique())\n",
    "\n",
    "num_of_users = len(set(res_df['USER'].unique()))\n",
    "average_new_courses = total_new_courses/num_of_users\n",
    "average_new_courses, num_of_users, total_new_courses"
   ]
  },
  {
   "cell_type": "code",
   "execution_count": 56,
   "metadata": {},
   "outputs": [
    {
     "data": {
      "text/html": [
       "<div>\n",
       "<style scoped>\n",
       "    .dataframe tbody tr th:only-of-type {\n",
       "        vertical-align: middle;\n",
       "    }\n",
       "\n",
       "    .dataframe tbody tr th {\n",
       "        vertical-align: top;\n",
       "    }\n",
       "\n",
       "    .dataframe thead th {\n",
       "        text-align: right;\n",
       "    }\n",
       "</style>\n",
       "<table border=\"1\" class=\"dataframe\">\n",
       "  <thead>\n",
       "    <tr style=\"text-align: right;\">\n",
       "      <th></th>\n",
       "      <th>TITLE</th>\n",
       "      <th>Recommendations</th>\n",
       "    </tr>\n",
       "  </thead>\n",
       "  <tbody>\n",
       "    <tr>\n",
       "      <th>0</th>\n",
       "      <td>foundations for big data analysis with sql</td>\n",
       "      <td>9138</td>\n",
       "    </tr>\n",
       "    <tr>\n",
       "      <th>1</th>\n",
       "      <td>analyzing big data with sql</td>\n",
       "      <td>9138</td>\n",
       "    </tr>\n",
       "    <tr>\n",
       "      <th>2</th>\n",
       "      <td>getting started with the data  apache spark ma...</td>\n",
       "      <td>8954</td>\n",
       "    </tr>\n",
       "    <tr>\n",
       "      <th>3</th>\n",
       "      <td>analyzing big data in r using apache spark</td>\n",
       "      <td>8769</td>\n",
       "    </tr>\n",
       "    <tr>\n",
       "      <th>4</th>\n",
       "      <td>spark overview for scala analytics</td>\n",
       "      <td>7970</td>\n",
       "    </tr>\n",
       "    <tr>\n",
       "      <th>5</th>\n",
       "      <td>cloud computing applications  part 2  big data...</td>\n",
       "      <td>7853</td>\n",
       "    </tr>\n",
       "    <tr>\n",
       "      <th>6</th>\n",
       "      <td>applied machine learning in python</td>\n",
       "      <td>7671</td>\n",
       "    </tr>\n",
       "    <tr>\n",
       "      <th>7</th>\n",
       "      <td>introduction to data science in python</td>\n",
       "      <td>7671</td>\n",
       "    </tr>\n",
       "    <tr>\n",
       "      <th>8</th>\n",
       "      <td>accelerating deep learning with gpu</td>\n",
       "      <td>7633</td>\n",
       "    </tr>\n",
       "    <tr>\n",
       "      <th>9</th>\n",
       "      <td>spark fundamentals ii</td>\n",
       "      <td>7203</td>\n",
       "    </tr>\n",
       "  </tbody>\n",
       "</table>\n",
       "</div>"
      ],
      "text/plain": [
       "                                               TITLE  Recommendations\n",
       "0         foundations for big data analysis with sql             9138\n",
       "1                        analyzing big data with sql             9138\n",
       "2  getting started with the data  apache spark ma...             8954\n",
       "3         analyzing big data in r using apache spark             8769\n",
       "4                 spark overview for scala analytics             7970\n",
       "5  cloud computing applications  part 2  big data...             7853\n",
       "6                 applied machine learning in python             7671\n",
       "7             introduction to data science in python             7671\n",
       "8                accelerating deep learning with gpu             7633\n",
       "9                              spark fundamentals ii             7203"
      ]
     },
     "execution_count": 56,
     "metadata": {},
     "output_type": "execute_result"
    }
   ],
   "source": [
    "# Let's first load the course content and BoW dataset\n",
    "course_url = \"data/course_processed.csv\"\n",
    "course_df = pd.read_csv(course_url)\n",
    "\n",
    "df = pd.DataFrame(res_df['COURSE_ID'].value_counts()[:10]).reset_index()\n",
    "\n",
    "df.rename(columns={'count':'Recommendations'}, inplace =True)\n",
    "merged_df= pd.merge(df, course_df[['COURSE_ID', 'TITLE']], on='COURSE_ID', how='left')\n",
    "merged_df.sort_values(by='Recommendations', ascending=False, inplace=True)\n",
    "merged_df[['TITLE','Recommendations']]"
   ]
  },
  {
   "cell_type": "markdown",
   "metadata": {},
   "source": [
    "    ### Computing the full user_profile"
   ]
  },
  {
   "cell_type": "code",
   "execution_count": 13,
   "metadata": {},
   "outputs": [
    {
     "name": "stdout",
     "output_type": "stream",
     "text": [
      "User profiles saved to my_user_profile.csv\n"
     ]
    },
    {
     "data": {
      "text/html": [
       "<div>\n",
       "<style scoped>\n",
       "    .dataframe tbody tr th:only-of-type {\n",
       "        vertical-align: middle;\n",
       "    }\n",
       "\n",
       "    .dataframe tbody tr th {\n",
       "        vertical-align: top;\n",
       "    }\n",
       "\n",
       "    .dataframe thead th {\n",
       "        text-align: right;\n",
       "    }\n",
       "</style>\n",
       "<table border=\"1\" class=\"dataframe\">\n",
       "  <thead>\n",
       "    <tr style=\"text-align: right;\">\n",
       "      <th></th>\n",
       "      <th>user</th>\n",
       "      <th>Database</th>\n",
       "      <th>Python</th>\n",
       "      <th>CloudComputing</th>\n",
       "      <th>DataAnalysis</th>\n",
       "      <th>Containers</th>\n",
       "      <th>MachineLearning</th>\n",
       "      <th>ComputerVision</th>\n",
       "      <th>DataScience</th>\n",
       "      <th>BigData</th>\n",
       "      <th>Chatbot</th>\n",
       "      <th>R</th>\n",
       "      <th>BackendDev</th>\n",
       "      <th>FrontendDev</th>\n",
       "      <th>Blockchain</th>\n",
       "    </tr>\n",
       "  </thead>\n",
       "  <tbody>\n",
       "    <tr>\n",
       "      <th>0</th>\n",
       "      <td>1889878</td>\n",
       "      <td>24</td>\n",
       "      <td>13</td>\n",
       "      <td>22</td>\n",
       "      <td>19</td>\n",
       "      <td>9</td>\n",
       "      <td>23</td>\n",
       "      <td>0</td>\n",
       "      <td>9</td>\n",
       "      <td>11</td>\n",
       "      <td>4</td>\n",
       "      <td>12</td>\n",
       "      <td>17</td>\n",
       "      <td>0</td>\n",
       "      <td>13</td>\n",
       "    </tr>\n",
       "    <tr>\n",
       "      <th>1</th>\n",
       "      <td>1342067</td>\n",
       "      <td>17</td>\n",
       "      <td>0</td>\n",
       "      <td>7</td>\n",
       "      <td>5</td>\n",
       "      <td>0</td>\n",
       "      <td>0</td>\n",
       "      <td>0</td>\n",
       "      <td>0</td>\n",
       "      <td>13</td>\n",
       "      <td>0</td>\n",
       "      <td>0</td>\n",
       "      <td>0</td>\n",
       "      <td>0</td>\n",
       "      <td>0</td>\n",
       "    </tr>\n",
       "    <tr>\n",
       "      <th>2</th>\n",
       "      <td>1990814</td>\n",
       "      <td>45</td>\n",
       "      <td>16</td>\n",
       "      <td>13</td>\n",
       "      <td>39</td>\n",
       "      <td>13</td>\n",
       "      <td>27</td>\n",
       "      <td>0</td>\n",
       "      <td>27</td>\n",
       "      <td>41</td>\n",
       "      <td>0</td>\n",
       "      <td>7</td>\n",
       "      <td>18</td>\n",
       "      <td>0</td>\n",
       "      <td>0</td>\n",
       "    </tr>\n",
       "    <tr>\n",
       "      <th>3</th>\n",
       "      <td>380098</td>\n",
       "      <td>12</td>\n",
       "      <td>21</td>\n",
       "      <td>14</td>\n",
       "      <td>26</td>\n",
       "      <td>16</td>\n",
       "      <td>52</td>\n",
       "      <td>0</td>\n",
       "      <td>32</td>\n",
       "      <td>5</td>\n",
       "      <td>0</td>\n",
       "      <td>16</td>\n",
       "      <td>14</td>\n",
       "      <td>0</td>\n",
       "      <td>3</td>\n",
       "    </tr>\n",
       "    <tr>\n",
       "      <th>4</th>\n",
       "      <td>779563</td>\n",
       "      <td>3</td>\n",
       "      <td>11</td>\n",
       "      <td>0</td>\n",
       "      <td>12</td>\n",
       "      <td>0</td>\n",
       "      <td>0</td>\n",
       "      <td>0</td>\n",
       "      <td>7</td>\n",
       "      <td>3</td>\n",
       "      <td>0</td>\n",
       "      <td>0</td>\n",
       "      <td>5</td>\n",
       "      <td>0</td>\n",
       "      <td>5</td>\n",
       "    </tr>\n",
       "  </tbody>\n",
       "</table>\n",
       "</div>"
      ],
      "text/plain": [
       "      user  Database  Python  CloudComputing  DataAnalysis  Containers  \\\n",
       "0  1889878        24      13              22            19           9   \n",
       "1  1342067        17       0               7             5           0   \n",
       "2  1990814        45      16              13            39          13   \n",
       "3   380098        12      21              14            26          16   \n",
       "4   779563         3      11               0            12           0   \n",
       "\n",
       "   MachineLearning  ComputerVision  DataScience  BigData  Chatbot   R  \\\n",
       "0               23               0            9       11        4  12   \n",
       "1                0               0            0       13        0   0   \n",
       "2               27               0           27       41        0   7   \n",
       "3               52               0           32        5        0  16   \n",
       "4                0               0            7        3        0   0   \n",
       "\n",
       "   BackendDev  FrontendDev  Blockchain  \n",
       "0          17            0          13  \n",
       "1           0            0           0  \n",
       "2          18            0           0  \n",
       "3          14            0           3  \n",
       "4           5            0           5  "
      ]
     },
     "execution_count": 13,
     "metadata": {},
     "output_type": "execute_result"
    }
   ],
   "source": [
    "# MY USER PROFILE MODEL\n",
    "#----------------------------------\n",
    "def user_profile_model(users):\n",
    "    u_weights = []\n",
    "    for user in users:\n",
    "        user_courses = users_df[users_df['user']==user]['item'].unique()\n",
    "        all_courses = courses_df['COURSE_ID'].unique()\n",
    "        u0 = np.zeros((1, len(all_courses)), dtype='int32')\n",
    "        for i, course in enumerate(all_courses):\n",
    "            if course in user_courses:\n",
    "                y = users_df[(users_df['user'] == user) & (users_df['item'] == course)]['rating'].values[0]\n",
    "                u0[0, i] = y\n",
    "            else:\n",
    "                u0[0, i] = 0\n",
    "        genres = [x for x in courses_df.columns if x not in ['COURSE_ID', 'TITLE']]\n",
    "        C = courses_df[genres].to_numpy()\n",
    "        #print(f\"User profile vector shape {u0.shape} and course genre matrix shape {C.shape}\")\n",
    "        u0_weights = np.matmul(u0, C)\n",
    "        #print(user, u0_weights)\n",
    "        u_weights.append(u0_weights.reshape(1, len(genres)))\n",
    "\n",
    "    u_weights = tuple(u_weights)\n",
    "\n",
    "    weights = np.concatenate(u_weights, axis=0)\n",
    "    profiles_df = pd.DataFrame(weights, columns=genres)\n",
    "    profiles_df.insert(0, 'user', users)\n",
    "\n",
    "    #Saving the profiles to a CSV file\n",
    "    csv_file = 'my_user_profile.csv'\n",
    "    profiles_df.to_csv(csv_file)\n",
    "    print(f\"User profiles saved to {csv_file}\")\n",
    "\n",
    "    return profiles_df\n",
    "\n",
    "users_df = pd.read_csv('data/ratings.csv')\n",
    "\n",
    "courses_df = pd.read_csv('data/course_genre.csv')\n",
    "users = users_df['user'].unique()\n",
    "output = user_profile_model(users)\n",
    "output.head()\n",
    "#--------------------------------------"
   ]
  },
  {
   "cell_type": "markdown",
   "metadata": {},
   "source": [
    "## Authors\n"
   ]
  },
  {
   "cell_type": "markdown",
   "metadata": {},
   "source": [
    "[Yan Luo](https://www.linkedin.com/in/yan-luo-96288783/)\n"
   ]
  },
  {
   "cell_type": "markdown",
   "metadata": {},
   "source": [
    "### Other Contributors\n"
   ]
  },
  {
   "cell_type": "markdown",
   "metadata": {},
   "source": [
    "```toggle## Change Log\n",
    "```\n"
   ]
  },
  {
   "cell_type": "markdown",
   "metadata": {},
   "source": [
    "```toggle|Date (YYYY-MM-DD)|Version|Changed By|Change Description|\n",
    "```\n",
    "```toggle|-|-|-|-|\n",
    "```\n",
    "```toggle|2021-10-25|1.0|Yan|Created the initial version|\n",
    "```\n"
   ]
  }
 ],
 "metadata": {
  "kernelspec": {
   "display_name": "Python 3 (ipykernel)",
   "language": "python",
   "name": "python3"
  },
  "language_info": {
   "codemirror_mode": {
    "name": "ipython",
    "version": 3
   },
   "file_extension": ".py",
   "mimetype": "text/x-python",
   "name": "python",
   "nbconvert_exporter": "python",
   "pygments_lexer": "ipython3",
   "version": "3.10.6"
  },
  "prev_pub_hash": "d221817f23a26ce6b7063851feeafdac82e3bc6523b5e731b550447de1abe81c"
 },
 "nbformat": 4,
 "nbformat_minor": 4
}
